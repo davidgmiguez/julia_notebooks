{
 "cells": [
  {
   "cell_type": "markdown",
   "metadata": {},
   "source": [
    "# Mass Action Law\n",
    "\n",
    "## 1. Introduction\n",
    "\n",
    "The Law of Mass Action states that that the change in the amount of a given species that is part of a scheme of interactions with other species is proportional to the product of the amount of the interacting substances.  The Law of Mass Action allows us to derive the set of ODEs that govern the dynamics of a system of “interacting entities”. Lets define some species `A`, `B`, `C` and `D`  that interact between them, so the amount of each one is allowed to  change over time until the reaction comes to an end. \n",
    "\n",
    "Some possible schemes of interaction are, for instance:\n",
    "$$\n",
    "\\begin{align*}\n",
    "A + B  &\\overset{k_1}{\\longrightarrow} C  \\tag{1} \\\\ \n",
    "C  &\\overset{k_2}{\\longrightarrow} A + B   \\tag{2} \\\\ \n",
    "AB + C  &\\overset{k_3}{\\longrightarrow} AC + B   \\tag{3} \\\\ \n",
    "AB + CD  &\\overset{k_4}{\\longrightarrow} AC + BD   \\tag{4} \\\\ \n",
    "\\end{align*}$$\n",
    "\n",
    "Although the Law of Mass Action was initially derived in the context of chemical reactions, it also describes the dynamics of any interacting entities in a system (chemicals, proteins, genes, cells, organisms…).  "
   ]
  },
  {
   "cell_type": "markdown",
   "metadata": {},
   "source": [
    "## 2.General Formulation\n",
    "We introduce the mass action law by using a general chemical reaction equation in which species `A` and `B` react to give species `C` and `D`\n",
    "\n",
    "$$\n",
    "\\begin{align*}\n",
    "aA + bB  &\\overset{k_1}{\\underset{k_2}{\\longleftrightarrow}} cC + dD \\tag{6} \\\\ \n",
    "\\end{align*}$$\n",
    "\n",
    "where `a`, `b`, `c`, `d` are the stoichiometric coefficients for a balanced interaction. The Mass Action Law states that if the system is at equilibrium at a given temperature, then the following ratio is a constant:\n",
    "\n",
    "$$\n",
    "K_{eq}= \\frac{[C]^c[D]^d}{[A]^a[B]^b} \\tag{7}\n",
    "$$\n",
    "\n",
    "The value of $K_{eq}$ is defined as the equilibrium constant, and  `[A]`, `[B]`, `[C]` and `[D]` are the amount of each species. If this amount is given as a concentration, lets say in moles/volume, `M`, the units of the equilibrium constant $K_{eq}$ are:\n",
    "\n",
    "$$\n",
    "[K_{eq}]=M^{c+d-a-b} \\tag{8}\n",
    "$$\n",
    "\n",
    "For reactions not at equilibrium, we can write a similar relation:\n",
    "$$\n",
    "Q= \\frac{[C]^c[D]^d}{[A]^a[B]^b} \\tag{9}\n",
    "$$\n",
    "where `Q` is defined as the he reaction quotient, and measures the relative amounts of teh interacting species present during a reaction at a particular point in time, when the reaction is still not at equilibrium.  As the reaction takes place and the system moves towards equilibrium, the value of `Q` gradually approaches the equilibrium constant $K_{eq}$.\n",
    "\n",
    "For instance, lets consider the following reaction\n",
    "\n",
    "$$NaCO_3 + CaCl_2 \\overset{k_1}{\\underset{k_2}{\\longleftrightarrow}} CaCO_3 + 2 \\cdot NaCl \\tag{10}\\\\  $$\n",
    "The equilibrium constant \n",
    "\n",
    "$$\n",
    "K_{eq}= \\frac{[CaCO_3][NaCl]^2}{[NaCO_3][CaCl_2]} \\tag{11}\n",
    "$$\n",
    "\n",
    "and at equilibrium we have the following final concetrations:\n"
   ]
  },
  {
   "cell_type": "code",
   "execution_count": 1,
   "metadata": {},
   "outputs": [],
   "source": [
    "NaCO_3=4;\n",
    "CaCl_2=0.5;\n",
    "CaCO_3=2;\n",
    "NaCl=1.2;"
   ]
  },
  {
   "cell_type": "markdown",
   "metadata": {},
   "source": [
    "Then the equilibrium constant can be calculated as:"
   ]
  },
  {
   "cell_type": "code",
   "execution_count": 2,
   "metadata": {},
   "outputs": [
    {
     "data": {
      "text/plain": [
       "1.44"
      ]
     },
     "execution_count": 2,
     "metadata": {},
     "output_type": "execute_result"
    }
   ],
   "source": [
    "K_eq=(CaCO_3*NaCl^2)/(NaCO_3*CaCl_2)"
   ]
  },
  {
   "cell_type": "markdown",
   "metadata": {},
   "source": [
    "## 3. Matrix Formulation of Mass Action\n",
    "\n",
    "Sometimes, it is convenient to write down the Mass action law as a vector-matrix formulation. This will be iuseful when dealing with large numbers of species and or reactions. Consider the familiar reaction:\n",
    "\n",
    "$$ 2H_2 + O_2 \\overset{k}{\\longrightarrow}  2 H_2O \\tag{12}$$\n",
    "\n",
    "Eq. 12 can be rewritten in a more general form as\n",
    " \n",
    " $$ 2 X_1 + X_2 \\overset{k}{\\longrightarrow}  2 X_3 \\tag{13}$$\n",
    "\n",
    "where $X_1$, $X_2$, and $X_3$ are the species $H_2$, $O_2$, and $H_2O$,\n",
    " \n",
    "The first step to write the system as a matrix form, we place all reactants at both sides of the reaction.\n",
    "\n",
    "  $$ 2 X_1 + X_2  + 0 X_3 \\overset{k}{\\longrightarrow}  0 X_1 +  0 X_2  + 2 X_3 \\tag{14}$$\n",
    " \n",
    " Next, we  write the stoichiometric coefficiens  as\n",
    " \n",
    "$$ A_1 X_1 + A_2 X_2  + A_3 X_3 \\overset{k}{\\longrightarrow}  B_1 X_1 +  B_2 X_2  + B_3 X_3 \\tag{15}$$\n",
    "\n",
    "$A_1$ = 2, $A_2$ = 1, $A_3$ = 0, $B_1$ = 0, $B_2$ = 0, and $B_3$ = 2.\n",
    "\n",
    "In compact form, the reaction can be written as:\n",
    "\n",
    "$$\n",
    "\\sum_{j=1}^{3} A_j X_j \\overset{k}{\\longrightarrow}  \\sum_{j=1}^{3} B_j X_j \\tag{16}\n",
    "$$\n",
    "\n",
    "or in vector form:$ A X \\overset{k}{\\longrightarrow} B X  \\tag{17}$\n",
    "\n",
    "where `X` is the state vector (i.e, the vector with all reactants), and `A` and `B` are the matrices of stoichiometric coefficients \n",
    "\n",
    "$$\\begin{align*}\n",
    "X&=[X_1,X_2,X_3]^T=[H_2,O_2,H_2O]^T \\tag{18}\\\\\n",
    "A&=[A_1,A_2,A_3]=[2,1,0] \\tag{19}\\\\\n",
    "B&=[B_1,B_2,B_3]=[0,0,2] \\tag{20}\\\\\n",
    "\\end{align*}$$\n",
    "\n",
    "To learn how to write reversible reactions as a matrix form, lest practice with the following reaction:\n",
    "\n",
    "$$NaCO_3 + CaCl_2 \\overset{k_1}{\\underset{k_2}{\\longleftrightarrow}} CaCO_3 + 2 \\cdot NaCl \\tag{21}\\\\  $$\n",
    "\n",
    "We will decouple the reversible reaction into two irreversible steps:\n",
    "\n",
    "$$\\begin{align*}\n",
    "NaCO_3 + CaCl_2 \\overset{k_1}{\\longrightarrow} CaCO_3 + 2 \\cdot NaCl \\tag{22}\\\\ \n",
    "CaCO_3 + 2 \\cdot NaCl \\overset{k_2}{\\longrightarrow} NaCO_3 + CaCl_2 \\tag{23}\n",
    "\\end{align*}$$\n",
    "\n",
    "Using the same matrix notation as in Eq. 13: \n",
    "\n",
    "$$\\begin{align*}\n",
    "X_1 + X_2 \\overset{k_1}{\\longrightarrow} X_3 + 2 \\cdot X_4 \\tag{24}\\\\ \n",
    "X_3 + 2 \\cdot X_4 \\overset{k_2}{\\longrightarrow} X_1 + X_2 \\tag{25}\n",
    "\\end{align*}$$\n",
    "\n",
    "\n",
    "where $X_1 = Na_2CO_3$, $X_2  = Ca_2Cl$,$X_3  = CaCo_3$, $X_4 = NaCl$. Now we put all reactants at both sides of the reaction.  \n",
    "\n",
    "$$\\begin{align*}\n",
    "1 \\cdot X_1 + 1 \\cdot X_2  + 0 \\cdot X_3  + 0 \\cdot X_4 & \\overset{k_1}  \\longrightarrow  0 \\cdot X_1+ 0 \\cdot X_2 + 1 \\cdot X_3 + 2\\cdot  X_4 \\tag{26}\\\\\n",
    " 0 \\cdot X_1+ 0 \\cdot X_2 +1 \\cdot X_3 + 2\\cdot X_4 &\\overset{k_2} \\longrightarrow 1 \\cdot X_1 + 1\\cdot  X_2 + 0 \\cdot X_3 + 0 \\cdot X_4 \\tag{27}\n",
    "\\end{align*}$$\n",
    "\n",
    "in a more general form:\n",
    "$$\\begin{align*}\n",
    "A_{11} X_1 + A_{12} X_2  + A_{13} + A_{14} X_4 &\\overset{k_1}  \\longrightarrow  B_{11}X_1+  B_{12} X_2 +  B_{13} X_3 + B_{14} X_4 \\tag{28}\\\\\n",
    "A_{21} X_1+ A_{22} X_2 +A_{23} X_3 + A_{24} X_4 & \\overset{k_2} \\longrightarrow B_{21}  X_1 + B_{22}  X_2 + B_{23} X_3 + B_{24} X_4 \\tag{29}\n",
    "\\end{align*}$$\n",
    "\n",
    "The numbers $A_{ij}$ are the stoichiometric coefficientes of the reactants, $B_{ij}$ are the stoichiometric coefficientes of the products.  Using the notation of Eq 16, these values are now the components of matrices `A` and `B`:\n",
    "\n",
    "$$\n",
    "A=\\begin{bmatrix}\n",
    " 1& 1 & 0 & 0  \\\\ \n",
    " 0 & 0 &1   &2  \n",
    "\\end{bmatrix} ;\n",
    "B=\\begin{bmatrix}\n",
    "0 & 0 &1   &2 \\tag{30}\\\\ \n",
    "1 & 1 &0   &0  \n",
    "\\end{bmatrix}\n",
    "\\\\\n",
    "$$\n",
    "\n",
    "The numbers of rows $i= 1...r$, coprresponds to the numbert of reactions `r` involved. The number of columns $j= 1...s$ corresponds to the number of species involved `s`.\n",
    "\n",
    "\n",
    "Finally, `k` now is also a vector with components:\n",
    "\n",
    "$$k=[k_1,k_2,...k_r]^T \\tag{31}$$\n",
    "\n",
    "\n",
    "altogether we have \n",
    "\n",
    "\n",
    "$$\n",
    "\\sum_{j=1}^{s} A_{ij} X_j \\overset{k}{\\longrightarrow}  \\sum_{j=1}^{s} B_{ij} X_j,\\,\\,\\,\\, \\,\\,\\,\\,\\,\\,\\,\\, \\,\\,\\,\\,  i=1...r\\tag{32}\n",
    "$$\n"
   ]
  },
  {
   "cell_type": "markdown",
   "metadata": {},
   "source": [
    "## 4. Order of reaction and units of k\n",
    "\n",
    "The Order of a Reaction refers to the power dependence of the rate on the concentration of each reactant. In brief, teh order of the reaction indicates the correlation of its velocity to the amount of reactants.\n",
    "- For a zero-order reaction, the rate does not depend on the concentration of any species.\n",
    "- For a first-order reaction, the rate is dependent on the concentration of a single species.\n",
    "- For a second-order reaction, the rate is dependent on the square of the concentration of a single reactant, or two reactants.\n",
    "\n",
    "In Mass-Action kinetics, we can define the reaction order of a given reaction $i =1…r$ as:\n",
    "\n",
    "$$\n",
    "\\sum_{j=1}^{s} A_{ij} \\tag{33}\n",
    "$$\n",
    "\n",
    "i.e., the reaction order corresponds to the sum of the stoichiometric coefficients of the species appearing in the reactant of the `i` reaction. \n",
    "For example, in the reaction 20, using the matrix A defined in Eq 27, \n",
    "\n",
    "$$\n",
    "A=\\begin{bmatrix}\n",
    " 1& 1 & 0 & 0  \\\\  \\tag{34}\n",
    " 0 & 0 &1  &2  \n",
    "\\end{bmatrix} ; \n",
    "$$\n",
    "\n",
    "The forward reaction `i=1` has an order or 2, the backward reaction `i=2` has an order of 3. The units of the kinetic constant `k_i` of each reaction `i` can be written in terms of the order of the reaction:\n",
    "\n",
    "$$[k_i]=\\frac{1}{s \\cdot M^{1-\\sum_{j=1}^{s} A_{ij}}} \\tag{35}$$"
   ]
  },
  {
   "cell_type": "code",
   "execution_count": 3,
   "metadata": {},
   "outputs": [
    {
     "name": "stdout",
     "output_type": "stream",
     "text": [
      "The order of the 1st reaction is 2\n",
      "The order of the 2nd reaction is 3\n",
      "The Units of k1 are s^-1 . k^-1\n",
      "The Units of k2 are s^-1 . k^-2\n"
     ]
    }
   ],
   "source": [
    "A=([1,1,0,0],[2,1,0,0])\n",
    "println(\"The order of the 1st reaction is $(sum(A[1]))\")\n",
    "println(\"The order of the 2nd reaction is $(sum(A[2]))\")\n",
    "\n",
    "println(\"The Units of k1 are s^-1 . k^$(1-(sum(A[1])))\")\n",
    "println(\"The Units of k2 are s^-1 . k^$(1-(sum(A[2])))\")"
   ]
  },
  {
   "cell_type": "markdown",
   "metadata": {},
   "source": [
    "## 5. Differential Form of Mass Action\n",
    "\n",
    "Now that we now how to obtain the stoichiometric matrices and the order of any given reaction, the next step is to write the differential equations.  We will use now the same formation for general interaction of eq.5 but in vector notation:\n",
    "\n",
    "$$\\begin{align*}\n",
    "X_1 + X_2 \\overset{k}{\\longrightarrow} X_3  \\tag{36}\\\\ \n",
    "\\end{align*}$$\n",
    "The stoichometrix matrix is: "
   ]
  },
  {
   "cell_type": "code",
   "execution_count": 4,
   "metadata": {},
   "outputs": [
    {
     "name": "stdout",
     "output_type": "stream",
     "text": [
      "The order of the 1st reaction is 2\n",
      "The Units of k are s^-1 . k^-1\n"
     ]
    }
   ],
   "source": [
    "A=([1,1,0])\n",
    "println(\"The order of the 1st reaction is $(sum(A))\")\n",
    "println(\"The Units of k are s^-1 . k^$(1-(sum(A)))\")"
   ]
  },
  {
   "cell_type": "markdown",
   "metadata": {},
   "source": [
    "We will write down the differential equations that account for the dynamics of each species. \n",
    "$$\n",
    "\\begin{align}\n",
    "\\frac{\\mathrm{d} X_1}{\\mathrm{d} t}  &=&  \\tag{37}\\\\\n",
    "\\frac{\\mathrm{d} X_2}{\\mathrm{d} t} &=& \\tag{38}\\\\\n",
    "\\frac{\\mathrm{d} X_3}{\\mathrm{d} t} &=&  \\tag{39}\n",
    "\\end{align}\n",
    "$$\n",
    "\n",
    "The Law of Mas Action states that the rate of change of any reactant is proportional to the concetrations of the reactants involved. The velocity depends on the affinity of the reaction and the concentrations of each of the reactants (what is before the arrow). The affinity of teh reactions i defined by the rate constant `k` of the reaction. The `k` is the proportionallyty constant that correlates the speed fo the reaction with the concentrations of the species involved. In this case is $X_1$ and $X_2$:\n",
    "\n",
    "$$\n",
    "\\begin{align}\n",
    "\\frac{\\mathrm{d} X_1}{\\mathrm{d} t}  &= - k X_1 X_2 \\tag{40}\\\\\n",
    "\\frac{\\mathrm{d} X_2}{\\mathrm{d} t} &=- k X_1 X_2 \\tag{41}\\\\\n",
    "\\frac{\\mathrm{d} X_3}{\\mathrm{d} t} &=  k X_1 X_2\\tag{42} \n",
    "\\end{align}\n",
    "$$\n",
    "\n",
    "Lets see if the units are correct:\n",
    "\n",
    "$$\n",
    "\\begin{align}\n",
    "\\frac{[M]}{[s]}  &= - \\frac{1}{[s][M]}[M] [M] \\tag{43}\\\\\n",
    "\\frac{[M]}{[s]}  &= - \\frac{1}{[s][M]}[M] [M] \\tag{44}\\\\\n",
    "\\frac{[M]}{[s]}  &=  \\frac{1}{[s][M]}[M] [M] \\tag{45}\\\\\n",
    "\\end{align}\n",
    "$$"
   ]
  },
  {
   "cell_type": "markdown",
   "metadata": {},
   "source": [
    "For the case where more than one molecule of reactant is involved, we will use the reaction of formation of water, in Eq 12. The stoichometrix matrix is in Eq. 19. "
   ]
  },
  {
   "cell_type": "code",
   "execution_count": 5,
   "metadata": {},
   "outputs": [
    {
     "name": "stdout",
     "output_type": "stream",
     "text": [
      "The order of the reaction is 3\n",
      "The units of k are s^-1 . k^-2\n"
     ]
    }
   ],
   "source": [
    "A=[2 1 0]\n",
    "println(\"The order of the reaction is $(sum(A))\")\n",
    "println(\"The units of k are s^-1 . k^$(1-(sum(A)))\")"
   ]
  },
  {
   "cell_type": "markdown",
   "metadata": {},
   "source": [
    "we can decompose the equation 13 as\n",
    " $$  X_1 +  X_1 + X_2 \\overset{k}{\\longrightarrow}  X_3 + X_3 \\tag{46}$$\n",
    "We will write down the differential equations that account for the dynamics of each species. The speed of each reaction depends on the concentration of the species involved (what is before the arrow). In this case is two units of $X_1$ and one unit of $X_2$. In addition, since the reaction consumes 2 units of $X_1$ for each unit of $X_2$, the rate of consumption of $X_1$ is twice the rate of consumption $X_2$. Therefore:\n",
    "\n",
    "\\begin{align}\n",
    "\\frac{\\mathrm{d} X_1}{\\mathrm{d} t}  &= - 2k X_1^2 X_2 \\tag{47}\\\\\n",
    "\\frac{\\mathrm{d} X_2}{\\mathrm{d} t} &=- k X_1^2 X_2 \\tag{48}\\\\\n",
    "\\frac{\\mathrm{d} X_3}{\\mathrm{d} t} &=2  k X_1^2 X_2 \\tag{49}\n",
    "\\end{align}\n",
    "\n",
    "Lets check if units are correct:\n",
    "\n",
    "\\begin{align}\n",
    "\\frac{[M]}{[s]}  &=& - \\frac{1}{[s][M]^2} [M]^2 [M] \\tag{50}\\\\\n",
    "\\frac{[M]}{[s]}  &=& - \\frac{1}{[s][M]^2} [M]^2 [M] \\tag{51}\\\\\n",
    "\\frac{[M]}{[s]}  &=& \\frac{1}{[s][M]^2} [M]^2 [M] \\tag{52}\n",
    "\\end{align}\n",
    "\n"
   ]
  },
  {
   "cell_type": "markdown",
   "metadata": {},
   "source": [
    "## 6. General formulation of differential form of Mass action\n",
    "\n",
    "When we have to write the differenetial equations of more complex systems of interactions, such as Eq 21, we can use a general method based omn the following equation: \n",
    "\n",
    "\\begin{align}\n",
    "\\frac{\\mathrm{d} X}{\\mathrm{d} t}&= (B-A)^T \\cdot K \\cdot X^A \\tag{53}\\\\\n",
    "\\end{align}\n",
    "\n",
    "where  `A` and `B` are the matrices with the stoichiometric coefficients, `X` is the state vector $X=[X_1,X_2,X_3]^T$, and `K` is a matrix in the form:\n",
    "\n",
    "$$\n",
    "K=\\begin{pmatrix}\n",
    " k_1 & 0   & 0  & \\dots & 0 \\\\ \n",
    " 0 &  k_2  & 0  & \\dots & 0\\\\ \n",
    " 0 & 0  & k_3 &\\dots  &0 \\\\ \n",
    " \\vdots &  \\vdots   &  \\vdots  &  \\vdots  &  \\vdots  \\tag{54}\\\\ \n",
    " 0 & 0  & 0  &  \\dots & k_r \n",
    "\\end{pmatrix}\n",
    "$$\n",
    "\n",
    "The calculation of $X^A$ is perfomed as:\n",
    "\n",
    "$$X^A=\\begin{pmatrix}\n",
    "X_1^{A_{11}} \\cdot X_2^{A_{12}} \\cdot X_3^{A_{13}} \\cdot  ... \\cdot  X_s^{A_{1s}} \\\\ \n",
    "X_1^{A_{21}} \\cdot X_2^{A_{22}} \\cdot X_3^{A_{23}} \\cdot  ... \\cdot  X_s^{A_{2s}} \\\\ \n",
    " \\vdots  \\,\\,\\,\\,\\,\\,\\,\\,\\,\\,\\,  \\vdots  \\,\\,\\,\\,\\,\\,\\,\\,\\,\\,\\,\\,    \\vdots \\,\\,\\,\\,\\,\\,\\,\\,\\,   \\vdots  \\,\\,\\,\\,\\,\\,\\,\\,   \\vdots  \\tag{55} \\\\ \n",
    "X_1^{A_{r1}} \\cdot X_2^{A_{r2}} \\cdot X_3^{A_{r3}} \\cdot  ... \\cdot  X_s^{A_{rs}} \\\\ \n",
    "\\end{pmatrix}$$\n",
    "\n",
    "We will use as example the reaction in eq 21. This example has two reactions $r=2$ and four species $s=4$, with the stoichiometric matrices `A` and `B` listed in Eq. 30\n"
   ]
  },
  {
   "cell_type": "code",
   "execution_count": 8,
   "metadata": {},
   "outputs": [
    {
     "data": {
      "text/plain": [
       "4×2 LinearAlgebra.Adjoint{Int64,Array{Int64,2}}:\n",
       " -1   1\n",
       " -1   1\n",
       "  1  -1\n",
       "  2  -2"
      ]
     },
     "execution_count": 8,
     "metadata": {},
     "output_type": "execute_result"
    }
   ],
   "source": [
    "A=[1 1 0 0; 0 0 1 2]\n",
    "B=[0 0 1 2; 1 1 0 0]\n",
    "(B-A)'"
   ]
  },
  {
   "cell_type": "markdown",
   "metadata": {},
   "source": [
    "in our case\n",
    "\n",
    "$$\n",
    "K=\\begin{pmatrix}\n",
    " k_1 & 0   \\tag{56}\\\\ \n",
    " 0 &  k_2  \\\\ \n",
    "\\end{pmatrix}\n",
    "$$\n",
    "\n",
    "and \n",
    "\n",
    "$$X^A=\\begin{pmatrix}\n",
    "X_1\\cdot X_2  \\tag{57}\\\\ \n",
    "X_3\\cdot X_4^2  \n",
    "\\end{pmatrix}$$\n",
    "\n",
    "therefore\n",
    "\n",
    "\\begin{align}\n",
    "\\frac{\\mathrm{d} \\begin{bmatrix}\n",
    "X_1 & X_2 & X_3 & X_4\n",
    "\\end{bmatrix}}{\\mathrm{d} t}&= \\begin{bmatrix}\n",
    " -1   &  1 \\\\\n",
    "    -1  &   1\\\\\n",
    "     1  &  -1\\\\\n",
    "     2  &  -2\n",
    "\\end{bmatrix}\\begin{bmatrix}\n",
    "k_1 & 0\\\\ \n",
    " 0& k_2\n",
    "\\end{bmatrix}\\begin{bmatrix}\n",
    "X_1 \\cdot X_2\\\\ \n",
    "X_3 \\cdot X_4^2\n",
    "\\end{bmatrix} \\tag{58}\n",
    "\\end{align}\n",
    "\n",
    "so calculating\n",
    "$$\n",
    "\\begin{align}\n",
    "\\frac{\\mathrm{d} \\begin{bmatrix}\n",
    "X_1 & X_2 & X_3 & X_4\n",
    "\\end{bmatrix}}{\\mathrm{d} t}&= \\begin{bmatrix}\n",
    " -1   &  1 \\\\\n",
    "    -1  &   1\\\\\n",
    "     1  &  -1\\\\\n",
    "     2  &  -2\n",
    "\\end{bmatrix}\\begin{bmatrix}\n",
    "k_1 \\cdot  X_1 \\cdot X_2\\\\ \n",
    "k_2 \\cdot X_3 \\cdot X_4^2\n",
    "\\end{bmatrix} \\tag{59}\n",
    "\\end{align}\n",
    "$$\n",
    "\n",
    "for the first equation\n",
    "\n",
    "\n",
    "$$\n",
    "\\begin{align}\n",
    "\\frac{\\mathrm{d} \\begin{bmatrix}\n",
    "\\mathbf{X_1} & X_2 & X_3 & X_4\n",
    "\\end{bmatrix}}{\\mathrm{d} t}&= \\begin{bmatrix}\n",
    " \\mathbf{-1}   &  1 \\\\\n",
    "    -1  &   1\\\\\n",
    "     1  &  -1\\\\\n",
    "     2  &  -2\n",
    "\\end{bmatrix}\\begin{bmatrix}\n",
    "\\mathbf{k_1 \\cdot  X_1 \\cdot X_2}\\\\ \n",
    "k_2 \\cdot X_3 \\cdot X_4^2\n",
    "\\end{bmatrix} \\tag{59}\n",
    "\\end{align}\n",
    "$$\n",
    "\n",
    "so, the final set of equations is:\n",
    "$$\\begin{align}        \n",
    "            \\frac{ \\mathrm{d}X_1 }{\\mathrm{d}t} &= - k_1 \\cdot X_1 \\cdot X_2 + k_2 \\cdot X_3 \\cdot X_4^2  \\tag{60}\\\\ \n",
    "            \\frac{ \\mathrm{d}X_2 }{\\mathrm{d}t} &= - k_1 \\cdot X_1 \\cdot X_2 + k_2 \\cdot X_3 \\cdot X_4^2   \\tag{61}  \\\\\n",
    "             \\frac{ \\mathrm{d} X_3 }{\\mathrm{d}t} &=  k_1 \\cdot X_1 \\cdot X_2 - k_2 \\cdot X_3 \\cdot X_4^2  \\tag{62}  \\\\\n",
    "              \\frac{ \\mathrm{d} X_4 }{\\mathrm{d}t} &= 2 k_1 \\cdot X_1  \\cdot X_2 - 2 k_2 \\cdot X_3 \\cdot X_4^2   \\tag{63}  \\\\\n",
    "\\end{align}\n",
    "$$"
   ]
  },
  {
   "cell_type": "markdown",
   "metadata": {},
   "source": [
    "## 7. Practical Exercices\n",
    "\n",
    "-  Find the order of the reactions, the units of the kinetic rate constants and write the differential equations that govern the dynamcis of the following system:\n",
    "\n",
    "$$ X_1  \\overset{k_1}{\\underset{k_2}{\\longleftrightarrow}} X_2 \\tag{64} $$\n",
    "\n",
    "-  Find the order of the reactions, the units of the kinetic rate constants and write the differential equations that govern the dynamcis of the following system: \n",
    "$$X_1\\overset{k_1}{\\longrightarrow}X_2\\overset{k_2}{\\longrightarrow}X_3 \\tag{65}$$\n",
    "\n",
    "-  Find the order of the reactions, the units of the kinetic rate constants and write the differential equations that govern the dynamcis of the following system:\n",
    "$$\n",
    "\\begin{align}\n",
    " X_1 &\\overset{k_1}{\\longrightarrow} 2X_1  \\tag{66} \\\\\n",
    " X_1 + X_2 &\\overset{k_2}{\\longrightarrow} 2X_2 \\tag{67}\\\\\n",
    " X_2 &\\overset{k_3}{\\longrightarrow} 0 \\tag{68}\\\\\n",
    " \\end{align}\n",
    " $$"
   ]
  }
 ],
 "metadata": {
  "kernelspec": {
   "display_name": "Julia 1.0.2",
   "language": "julia",
   "name": "julia-1.0"
  },
  "language_info": {
   "file_extension": ".jl",
   "mimetype": "application/julia",
   "name": "julia",
   "version": "1.0.2"
  }
 },
 "nbformat": 4,
 "nbformat_minor": 4
}
